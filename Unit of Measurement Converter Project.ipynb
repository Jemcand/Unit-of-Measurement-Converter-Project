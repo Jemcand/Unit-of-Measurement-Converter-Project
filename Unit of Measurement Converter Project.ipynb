{
 "cells": [
  {
   "cell_type": "code",
   "execution_count": 26,
   "id": "94128514-7e2e-4ed6-b67c-c9df2d580cdb",
   "metadata": {},
   "outputs": [
    {
     "name": "stdin",
     "output_type": "stream",
     "text": [
      "Enter Starting Unit of Measurement(inches, feet, yards) inches\n",
      "Enter Unit of Measurement to Convert to(inches, feet, yards) yards\n",
      "Enter Starting Measurement in Inches:  1\n",
      "Enter Starting Measurement in Feet:  2\n",
      "Enter Starting Measurement in Yards:  3\n"
     ]
    }
   ],
   "source": [
    "convert_from = input(\"Enter Starting Unit of Measurement(inches, feet, yards)\")\n",
    "convert_to = input(\"Enter Unit of Measurement to Convert to(inches, feet, yards)\")\n",
    "num_inches = input(\"Enter Starting Measurement in Inches: \")\n",
    "num_feet = input(\"Enter Starting Measurement in Feet: \")\n",
    "num_yards = input(\"Enter Starting Measurement in Yards: \")"
   ]
  },
  {
   "cell_type": "code",
   "execution_count": 60,
   "id": "e79f0f77-da05-4b8e-a4e6-47a3df5b93e0",
   "metadata": {},
   "outputs": [
    {
     "name": "stdin",
     "output_type": "stream",
     "text": [
      "Enter Starting Unit of Measurement(inches, feet, yards) feet\n",
      "Enter Unit of Measurement to Convert to(inches, feet, yards) yards\n",
      "Enter Starting Measurement in Feet:  5\n"
     ]
    },
    {
     "name": "stdout",
     "output_type": "stream",
     "text": [
      "Result: 5 Feet = 1.67 Yards\n"
     ]
    }
   ],
   "source": [
    "convert_from = input(\"Enter Starting Unit of Measurement(inches, feet, yards)\")\n",
    "convert_to = input(\"Enter Unit of Measurement to Convert to(inches, feet, yards)\")\n",
    "\n",
    "if convert_from.lower() in ['inches','in','inch']:\n",
    "    num_inches = int(input(\"Enter Starting Measurement in Inches: \"))\n",
    "    if convert_to.lower() in ['feet','foot','ft']:\n",
    "        print(\"Result:\", num_inches, \"Inches =\",round(num_inches / 12,2),\"Feet\")\n",
    "    elif convert_to.lower() in ['yards','yard','yds']:\n",
    "        print(\"Result:\", num_inches, \"Inches =\",round(num_inches / 36,2),\"Yards\")\n",
    "    else:\n",
    "        print(\"Please Enter Either Inches, Feet or Yards\")\n",
    "elif convert_from.lower() in ['feet','foot','ft']:\n",
    "    num_feet = int(input(\"Enter Starting Measurement in Feet: \"))\n",
    "    if convert_to.lower() in ['inches','in','inch']:\n",
    "        print(\"Result:\", num_feet, \"Feet =\",num_feet * 12,\"Inches\")\n",
    "    elif convert_to.lower() in ['yards','yard','yds']:\n",
    "        print(\"Result:\", num_feet, \"Feet =\",round(num_feet / 3,2),\"Yards\")\n",
    "    else:\n",
    "        print(\"Please Enter Either Inches, Feet or Yards\") \n",
    "elif convert_from.lower() in ['yards','yard','yds']:\n",
    "    num_yards = int(input(\"Enter Starting Measurement in Yards: \"))\n",
    "    if convert_to.lower() in ['inches','in','inch']:\n",
    "        print(\"Result:\", num_yards, \"Yards =\",num_yards * 36,\"Inches\")\n",
    "    elif convert_to.lower() in ['feet','foot','ft']:\n",
    "        print(\"Result:\", num_yards, \"Yards =\",num_yards * 3,\"Feet\")\n",
    "    else:\n",
    "        print(\"Please Enter Either Inches, Feet or Yards\") \n",
    "else:\n",
    "    print(\"Please Enter Either Inches, Feet or Yards\")\n",
    "\n",
    "    "
   ]
  },
  {
   "cell_type": "code",
   "execution_count": null,
   "id": "42645553-80a6-43d3-b109-7a6f3c2bcc4a",
   "metadata": {},
   "outputs": [],
   "source": []
  },
  {
   "cell_type": "code",
   "execution_count": null,
   "id": "647f0c54-d73b-4823-963e-c81ee7004419",
   "metadata": {},
   "outputs": [],
   "source": []
  },
  {
   "cell_type": "code",
   "execution_count": null,
   "id": "feca25cd-a424-4b3e-baea-aa4ce0a2d0e0",
   "metadata": {},
   "outputs": [],
   "source": []
  },
  {
   "cell_type": "code",
   "execution_count": null,
   "id": "33aca637-81fa-4fcb-befa-f73d5a46b46b",
   "metadata": {},
   "outputs": [],
   "source": []
  },
  {
   "cell_type": "code",
   "execution_count": null,
   "id": "0987d6d9-a835-40ea-8262-1f5de368f2bd",
   "metadata": {},
   "outputs": [],
   "source": []
  },
  {
   "cell_type": "code",
   "execution_count": null,
   "id": "8c45cf90-2c66-4cd2-aea5-73d1e6e62cae",
   "metadata": {},
   "outputs": [],
   "source": []
  },
  {
   "cell_type": "code",
   "execution_count": null,
   "id": "273b56a4-32e6-45cd-b10a-201a6fc3b343",
   "metadata": {},
   "outputs": [],
   "source": []
  },
  {
   "cell_type": "code",
   "execution_count": null,
   "id": "8bdfcb62-59ac-42e3-b323-91d3d88b6048",
   "metadata": {},
   "outputs": [],
   "source": []
  },
  {
   "cell_type": "code",
   "execution_count": null,
   "id": "b6dab0c8-36c6-4581-a273-567748957f52",
   "metadata": {},
   "outputs": [],
   "source": []
  },
  {
   "cell_type": "code",
   "execution_count": null,
   "id": "02aef14f-fe39-462d-aae0-a3c36c1a75c2",
   "metadata": {},
   "outputs": [],
   "source": []
  },
  {
   "cell_type": "code",
   "execution_count": null,
   "id": "dc26a4e0-386c-4145-ba86-16d0fc92f15a",
   "metadata": {},
   "outputs": [],
   "source": []
  },
  {
   "cell_type": "code",
   "execution_count": null,
   "id": "0df3c345-0b2d-4a90-986b-b66789d2f452",
   "metadata": {},
   "outputs": [],
   "source": []
  },
  {
   "cell_type": "code",
   "execution_count": null,
   "id": "46aa09c6-cf48-4077-8adc-07b280676ee9",
   "metadata": {},
   "outputs": [],
   "source": []
  },
  {
   "cell_type": "code",
   "execution_count": null,
   "id": "69be7b69-6d07-43c7-b0ae-8f6b1078f48b",
   "metadata": {},
   "outputs": [],
   "source": []
  },
  {
   "cell_type": "code",
   "execution_count": null,
   "id": "51cfe650-37a8-4308-bacc-fdf77f5cf817",
   "metadata": {},
   "outputs": [],
   "source": []
  },
  {
   "cell_type": "code",
   "execution_count": null,
   "id": "643d616a-2900-4d50-830b-8a653aa423a2",
   "metadata": {},
   "outputs": [],
   "source": []
  },
  {
   "cell_type": "code",
   "execution_count": null,
   "id": "16e6c07a-d00f-4083-a14a-e3eefed13a4f",
   "metadata": {},
   "outputs": [],
   "source": []
  }
 ],
 "metadata": {
  "kernelspec": {
   "display_name": "Python 3 (ipykernel)",
   "language": "python",
   "name": "python3"
  },
  "language_info": {
   "codemirror_mode": {
    "name": "ipython",
    "version": 3
   },
   "file_extension": ".py",
   "mimetype": "text/x-python",
   "name": "python",
   "nbconvert_exporter": "python",
   "pygments_lexer": "ipython3",
   "version": "3.12.4"
  }
 },
 "nbformat": 4,
 "nbformat_minor": 5
}
